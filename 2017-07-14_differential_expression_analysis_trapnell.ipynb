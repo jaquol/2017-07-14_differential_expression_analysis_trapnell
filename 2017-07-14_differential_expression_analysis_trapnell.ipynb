{
 "cells": [
  {
   "cell_type": "markdown",
   "metadata": {
    "toc": "true"
   },
   "source": [
    "# Table of Contents\n",
    " <p><div class=\"lev1 toc-item\"><a href=\"#Introduction\" data-toc-modified-id=\"Introduction-1\"><span class=\"toc-item-num\">1&nbsp;&nbsp;</span>Introduction</a></div><div class=\"lev1 toc-item\"><a href=\"#Configuration\" data-toc-modified-id=\"Configuration-2\"><span class=\"toc-item-num\">2&nbsp;&nbsp;</span>Configuration</a></div><div class=\"lev1 toc-item\"><a href=\"#Download-FASTQ-files\" data-toc-modified-id=\"Download-FASTQ-files-3\"><span class=\"toc-item-num\">3&nbsp;&nbsp;</span>Download FASTQ files</a></div>"
   ]
  },
  {
   "cell_type": "markdown",
   "metadata": {},
   "source": [
    "# Introduction"
   ]
  },
  {
   "cell_type": "markdown",
   "metadata": {},
   "source": [
    "# Configuration"
   ]
  },
  {
   "cell_type": "code",
   "execution_count": 5,
   "metadata": {},
   "outputs": [
    {
     "name": "stdout",
     "output_type": "stream",
     "text": [
      "Populating the interactive namespace from numpy and matplotlib\n"
     ]
    }
   ],
   "source": [
    "%pylab inline\n",
    "\n",
    "import os\n",
    "import os.path\n",
    "import pandas as pd\n",
    "import glob\n",
    "import matplotlib.cm as cmx\n",
    "import matplotlib.colors as colors\n",
    "from IPython.core.display import Image\n",
    "from scipy import stats\n",
    "import seaborn as sns\n",
    "\n",
    "# FONT\n",
    "plt.rcParams['font.size'] = 20 \n",
    "plt.rcParams['font.weight'] = 'medium' \n",
    "plt.rcParams['font.family'] = 'sans-serif' \n",
    "plt.rcParams['font.sans-serif'] = 'Arial' \n",
    "\n",
    "# LINES\n",
    "plt.rcParams['lines.linewidth'] = 2.0\n",
    "\n",
    "# LEGEND\n",
    "plt.rcParams['legend.numpoints'] = 1\n",
    "plt.rcParams['legend.frameon'] = False\n",
    "\n",
    "# SAVING FIGURES\n",
    "#plt.rcParams['savefig.dpi'] = 300 \n",
    "plt.rcParams['savefig.bbox'] = 'tight'\n",
    "\n",
    "# seaborn options\n",
    "sns.set_context(\"talk\", font_scale = 1.5)\n",
    "sns.set_style(\"white\")"
   ]
  },
  {
   "cell_type": "code",
   "execution_count": 6,
   "metadata": {
    "collapsed": true
   },
   "outputs": [],
   "source": [
    "project = 'misc'\n",
    "analysis = '2017-07-14_differential_expression_analysis_trapnell'\n",
    "PROJECT = '/Volumes/users-GR-mb-jquilez/projects/%s' % project\n",
    "ANALYSIS = '%s/analysis/%s' % (PROJECT, analysis)"
   ]
  },
  {
   "cell_type": "markdown",
   "metadata": {},
   "source": [
    "# Download FASTQ files\n",
    "\n",
    "Prepare the table to download the SRR samples:\n",
    "```\n",
    "cat projects/misc/analysis/2017-07-14_differential_expression_analysis_trapnell/tables/sample_id_to_srr.txt\n",
    "```\n",
    "\n",
    "Download FASTQs with [`fastq_dump_from_sra.sh`](https://github.com/CRG-Beato/utils/blob/master/fastq_dump_from_sra.sh):\n",
    "```bash\n",
    "# variables\n",
    "#analysis=2017-07-14_differential_expression_analysis_trapnell\n",
    "#download_date=2017-07-14\n",
    "#process=fastq_dump_from_sra\n",
    "#project='misc'\n",
    "#data_type='rnaseq'\n",
    "#table_name=sample_id_to_srr.txt\n",
    "utils/fastq_dump_from_sra.sh\n",
    "```"
   ]
  },
  {
   "cell_type": "code",
   "execution_count": null,
   "metadata": {
    "collapsed": true
   },
   "outputs": [],
   "source": []
  }
 ],
 "metadata": {
  "kernelspec": {
   "display_name": "Python 2",
   "language": "python",
   "name": "python2"
  },
  "language_info": {
   "codemirror_mode": {
    "name": "ipython",
    "version": 2
   },
   "file_extension": ".py",
   "mimetype": "text/x-python",
   "name": "python",
   "nbconvert_exporter": "python",
   "pygments_lexer": "ipython2",
   "version": "2.7.13"
  },
  "toc": {
   "colors": {
    "hover_highlight": "#DAA520",
    "navigate_num": "#000000",
    "navigate_text": "#333333",
    "running_highlight": "#FF0000",
    "selected_highlight": "#FFD700",
    "sidebar_border": "#EEEEEE",
    "wrapper_background": "#FFFFFF"
   },
   "moveMenuLeft": true,
   "nav_menu": {
    "height": "72px",
    "width": "252px"
   },
   "navigate_menu": true,
   "number_sections": true,
   "sideBar": true,
   "threshold": 4,
   "toc_cell": true,
   "toc_section_display": "none",
   "toc_window_display": true,
   "widenNotebook": false
  }
 },
 "nbformat": 4,
 "nbformat_minor": 2
}
